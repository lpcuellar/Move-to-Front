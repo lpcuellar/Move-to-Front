{
  "nbformat": 4,
  "nbformat_minor": 0,
  "metadata": {
    "colab": {
      "name": "mtf.ipynb",
      "provenance": [],
      "collapsed_sections": []
    },
    "kernelspec": {
      "name": "python3",
      "display_name": "Python 3"
    },
    "language_info": {
      "name": "python"
    }
  },
  "cells": [
    {
      "cell_type": "markdown",
      "metadata": {
        "id": "nud-nVJWTIKb"
      },
      "source": [
        "### **Proyecto 2 - Algoritmo MTF (Move to Front)**\n",
        "Universidad del Valle de Guatemala\n",
        "\n",
        "Análisis y Diseño de Algoritmos\n",
        "\n",
        "Luis Pedro Cuéllar - 18220"
      ]
    },
    {
      "cell_type": "code",
      "metadata": {
        "id": "sSAmlqosWF2g"
      },
      "source": [
        "import numpy as np"
      ],
      "execution_count": 41,
      "outputs": []
    },
    {
      "cell_type": "code",
      "metadata": {
        "id": "THueY3tMWnnX"
      },
      "source": [
        "def MTF(req_list, config_list):\n",
        "  old_list = config_list\n",
        "  new_list = config_list\n",
        "  total_cost = 0\n",
        "\n",
        "  for i in req_list:\n",
        "    cost = 0\n",
        "    old_list = new_list\n",
        "\n",
        "    for j in old_list:\n",
        "      cost += 1\n",
        "\n",
        "      if i == j:\n",
        "        nth_position = np.where(old_list == i)\n",
        "\n",
        "        new_list = np.delete(new_list, nth_position)\n",
        "        new_list = np.insert(new_list, 0, i)\n",
        "\n",
        "        print(old_list, i, cost, new_list)\n",
        "        \n",
        "        break\n",
        "\n",
        "    total_cost += cost\n",
        "\n",
        "  print(\"\\nCOSTO TOTAL = %d \\n\" % (total_cost))   "
      ],
      "execution_count": 90,
      "outputs": []
    },
    {
      "cell_type": "markdown",
      "metadata": {
        "id": "ffr-INP3MD_W"
      },
      "source": [
        "###**a)**\n",
        "\n"
      ]
    },
    {
      "cell_type": "markdown",
      "metadata": {
        "id": "H3YxBRW8pSvf"
      },
      "source": [
        "*   **Lista de Configuarción = [0, 1, 2, 3, 4]**\n",
        "*   **Secuencia de Solicitudes = [0, 1, 2, 3, 4,0, 1, 2, 3, 4, 0, 1, 2, 3, 4, 0, 1, 2, 3, 4]**"
      ]
    },
    {
      "cell_type": "code",
      "metadata": {
        "colab": {
          "base_uri": "https://localhost:8080/"
        },
        "id": "F2pOLMgwC0aj",
        "outputId": "2bfc9a35-8f50-4e33-fc18-5d1d07c4df6c"
      },
      "source": [
        "config_list = np.array([0, 1, 2, 3, 4])\n",
        "req_list = np.array([0, 1, 2, 3, 4, 0, 1, 2, 3, 4, 0, 1, 2, 3, 4, 0, 1, 2, 3, 4])\n",
        "\n",
        "print(\"CANTIDAD DE SOLICITUDES -> %d\\n\" %(len(req_list)))\n",
        "MTF(req_list, config_list)"
      ],
      "execution_count": 75,
      "outputs": [
        {
          "output_type": "stream",
          "text": [
            "CANTIDAD DE SOLICITUDES -> 20\n",
            "\n",
            "[0 1 2 3 4] 0 1 [0 1 2 3 4]\n",
            "[0 1 2 3 4] 1 2 [1 0 2 3 4]\n",
            "[1 0 2 3 4] 2 3 [2 1 0 3 4]\n",
            "[2 1 0 3 4] 3 4 [3 2 1 0 4]\n",
            "[3 2 1 0 4] 4 5 [4 3 2 1 0]\n",
            "[4 3 2 1 0] 0 5 [0 4 3 2 1]\n",
            "[0 4 3 2 1] 1 5 [1 0 4 3 2]\n",
            "[1 0 4 3 2] 2 5 [2 1 0 4 3]\n",
            "[2 1 0 4 3] 3 5 [3 2 1 0 4]\n",
            "[3 2 1 0 4] 4 5 [4 3 2 1 0]\n",
            "[4 3 2 1 0] 0 5 [0 4 3 2 1]\n",
            "[0 4 3 2 1] 1 5 [1 0 4 3 2]\n",
            "[1 0 4 3 2] 2 5 [2 1 0 4 3]\n",
            "[2 1 0 4 3] 3 5 [3 2 1 0 4]\n",
            "[3 2 1 0 4] 4 5 [4 3 2 1 0]\n",
            "[4 3 2 1 0] 0 5 [0 4 3 2 1]\n",
            "[0 4 3 2 1] 1 5 [1 0 4 3 2]\n",
            "[1 0 4 3 2] 2 5 [2 1 0 4 3]\n",
            "[2 1 0 4 3] 3 5 [3 2 1 0 4]\n",
            "[3 2 1 0 4] 4 5 [4 3 2 1 0]\n",
            "\n",
            "COSTO TOTAL = 90 \n",
            "\n"
          ],
          "name": "stdout"
        }
      ]
    },
    {
      "cell_type": "markdown",
      "metadata": {
        "id": "fyJHFtJnM6of"
      },
      "source": [
        "### **b)** "
      ]
    },
    {
      "cell_type": "markdown",
      "metadata": {
        "id": "b01l3_0qpO7n"
      },
      "source": [
        "*   **Lista de Configuarción = [0, 1, 2, 3, 4]**\n",
        "*   **Secuencia de Solicitudes = [4, 3, 2, 1, 0, 1, 2, 3, 4, 3, 2, 1, 0, 1, 2, 3, 4]**"
      ]
    },
    {
      "cell_type": "code",
      "metadata": {
        "colab": {
          "base_uri": "https://localhost:8080/"
        },
        "id": "tKFt81g7MDIx",
        "outputId": "2d30e9b2-f755-4735-d7a8-6bbe9f3814ad"
      },
      "source": [
        "config_list = np.array([0, 1, 2, 3, 4])\n",
        "req_list = np.array([4, 3, 2, 1, 0, 1, 2, 3, 4, 3, 2, 1, 0, 1, 2, 3, 4])\n",
        "\n",
        "print(\"CANTIDAD DE SOLICITUDES -> %d\\n\" %(len(req_list)))\n",
        "MTF(req_list, config_list)"
      ],
      "execution_count": 76,
      "outputs": [
        {
          "output_type": "stream",
          "text": [
            "CANTIDAD DE SOLICITUDES -> 17\n",
            "\n",
            "[0 1 2 3 4] 4 5 [4 0 1 2 3]\n",
            "[4 0 1 2 3] 3 5 [3 4 0 1 2]\n",
            "[3 4 0 1 2] 2 5 [2 3 4 0 1]\n",
            "[2 3 4 0 1] 1 5 [1 2 3 4 0]\n",
            "[1 2 3 4 0] 0 5 [0 1 2 3 4]\n",
            "[0 1 2 3 4] 1 2 [1 0 2 3 4]\n",
            "[1 0 2 3 4] 2 3 [2 1 0 3 4]\n",
            "[2 1 0 3 4] 3 4 [3 2 1 0 4]\n",
            "[3 2 1 0 4] 4 5 [4 3 2 1 0]\n",
            "[4 3 2 1 0] 3 2 [3 4 2 1 0]\n",
            "[3 4 2 1 0] 2 3 [2 3 4 1 0]\n",
            "[2 3 4 1 0] 1 4 [1 2 3 4 0]\n",
            "[1 2 3 4 0] 0 5 [0 1 2 3 4]\n",
            "[0 1 2 3 4] 1 2 [1 0 2 3 4]\n",
            "[1 0 2 3 4] 2 3 [2 1 0 3 4]\n",
            "[2 1 0 3 4] 3 4 [3 2 1 0 4]\n",
            "[3 2 1 0 4] 4 5 [4 3 2 1 0]\n",
            "\n",
            "COSTO TOTAL = 67 \n",
            "\n"
          ],
          "name": "stdout"
        }
      ]
    },
    {
      "cell_type": "markdown",
      "metadata": {
        "id": "idWBckVQlCOu"
      },
      "source": [
        "### **c)**\n"
      ]
    },
    {
      "cell_type": "markdown",
      "metadata": {
        "id": "amLp_ILjpLTu"
      },
      "source": [
        "\n",
        "*   **¿Para  qué  secuencia  de 20 solicitudes se  obtiene  el  mínimo  costo total  de  acceso  utilizando  el algoritmo MTF para la configuración 0, 1, 2, 3, 4? ¿Cuál sería ese costo total de acceso?**"
      ]
    },
    {
      "cell_type": "code",
      "metadata": {
        "colab": {
          "base_uri": "https://localhost:8080/"
        },
        "id": "dGTn68CplQq3",
        "outputId": "81d2bc04-8529-4094-8343-9813e4fca82e"
      },
      "source": [
        "config_list = np.array([0, 1, 2, 3, 4])\n",
        "req_list = np.array([0, 0, 0, 0, 0, 0, 0, 0, 0, 0, 0, 0, 0, 0, 0, 0, 0, 0, 0, 0])\n",
        "\n",
        "print(\"CANTIDAD DE SOLICITUDES -> %d\\n\" %(len(req_list)))\n",
        "MTF(req_list, config_list)"
      ],
      "execution_count": 77,
      "outputs": [
        {
          "output_type": "stream",
          "text": [
            "CANTIDAD DE SOLICITUDES -> 20\n",
            "\n",
            "[0 1 2 3 4] 0 1 [0 1 2 3 4]\n",
            "[0 1 2 3 4] 0 1 [0 1 2 3 4]\n",
            "[0 1 2 3 4] 0 1 [0 1 2 3 4]\n",
            "[0 1 2 3 4] 0 1 [0 1 2 3 4]\n",
            "[0 1 2 3 4] 0 1 [0 1 2 3 4]\n",
            "[0 1 2 3 4] 0 1 [0 1 2 3 4]\n",
            "[0 1 2 3 4] 0 1 [0 1 2 3 4]\n",
            "[0 1 2 3 4] 0 1 [0 1 2 3 4]\n",
            "[0 1 2 3 4] 0 1 [0 1 2 3 4]\n",
            "[0 1 2 3 4] 0 1 [0 1 2 3 4]\n",
            "[0 1 2 3 4] 0 1 [0 1 2 3 4]\n",
            "[0 1 2 3 4] 0 1 [0 1 2 3 4]\n",
            "[0 1 2 3 4] 0 1 [0 1 2 3 4]\n",
            "[0 1 2 3 4] 0 1 [0 1 2 3 4]\n",
            "[0 1 2 3 4] 0 1 [0 1 2 3 4]\n",
            "[0 1 2 3 4] 0 1 [0 1 2 3 4]\n",
            "[0 1 2 3 4] 0 1 [0 1 2 3 4]\n",
            "[0 1 2 3 4] 0 1 [0 1 2 3 4]\n",
            "[0 1 2 3 4] 0 1 [0 1 2 3 4]\n",
            "[0 1 2 3 4] 0 1 [0 1 2 3 4]\n",
            "\n",
            "COSTO TOTAL = 20 \n",
            "\n"
          ],
          "name": "stdout"
        }
      ]
    },
    {
      "cell_type": "markdown",
      "metadata": {
        "id": "iZQz8NtWlt7L"
      },
      "source": [
        "### **d)**\n"
      ]
    },
    {
      "cell_type": "markdown",
      "metadata": {
        "id": "Dj_P9O-VpHoi"
      },
      "source": [
        "\n",
        "*   **¿Para qué secuencia de 20 solicitudes se obtiene el peor de los casos utilizando el algoritmo MTF para la configuración 0, 1, 2, 3, 4? ¿Cuál sería ese costo total de acceso?**\n"
      ]
    },
    {
      "cell_type": "code",
      "metadata": {
        "colab": {
          "base_uri": "https://localhost:8080/"
        },
        "id": "Bv1RjqCnl7e4",
        "outputId": "f987d5aa-6eb1-44ae-b6d7-bcb0d5717add"
      },
      "source": [
        "config_list = np.array([0, 1, 2, 3, 4])\n",
        "req_list = np.array([4, 3, 2, 1, 0, 4, 3, 2, 1, 0, 4, 3, 2, 1, 0, 4, 3, 2, 1, 0])\n",
        "\n",
        "print(\"CANTIDAD DE SOLICITUDES -> %d\\n\" %(len(req_list)))\n",
        "MTF(req_list, config_list)"
      ],
      "execution_count": 78,
      "outputs": [
        {
          "output_type": "stream",
          "text": [
            "CANTIDAD DE SOLICITUDES -> 20\n",
            "\n",
            "[0 1 2 3 4] 4 5 [4 0 1 2 3]\n",
            "[4 0 1 2 3] 3 5 [3 4 0 1 2]\n",
            "[3 4 0 1 2] 2 5 [2 3 4 0 1]\n",
            "[2 3 4 0 1] 1 5 [1 2 3 4 0]\n",
            "[1 2 3 4 0] 0 5 [0 1 2 3 4]\n",
            "[0 1 2 3 4] 4 5 [4 0 1 2 3]\n",
            "[4 0 1 2 3] 3 5 [3 4 0 1 2]\n",
            "[3 4 0 1 2] 2 5 [2 3 4 0 1]\n",
            "[2 3 4 0 1] 1 5 [1 2 3 4 0]\n",
            "[1 2 3 4 0] 0 5 [0 1 2 3 4]\n",
            "[0 1 2 3 4] 4 5 [4 0 1 2 3]\n",
            "[4 0 1 2 3] 3 5 [3 4 0 1 2]\n",
            "[3 4 0 1 2] 2 5 [2 3 4 0 1]\n",
            "[2 3 4 0 1] 1 5 [1 2 3 4 0]\n",
            "[1 2 3 4 0] 0 5 [0 1 2 3 4]\n",
            "[0 1 2 3 4] 4 5 [4 0 1 2 3]\n",
            "[4 0 1 2 3] 3 5 [3 4 0 1 2]\n",
            "[3 4 0 1 2] 2 5 [2 3 4 0 1]\n",
            "[2 3 4 0 1] 1 5 [1 2 3 4 0]\n",
            "[1 2 3 4 0] 0 5 [0 1 2 3 4]\n",
            "\n",
            "COSTO TOTAL = 100 \n",
            "\n"
          ],
          "name": "stdout"
        }
      ]
    },
    {
      "cell_type": "markdown",
      "metadata": {
        "id": "zD0KOcMAm3jU"
      },
      "source": [
        "### **e)**\n"
      ]
    },
    {
      "cell_type": "markdown",
      "metadata": {
        "id": "IUJMYrC3pB-b"
      },
      "source": [
        "> 1.\n",
        "\n",
        "\n",
        "> > *   **Lista de Configuración = [0, 1, 2, 3, 4]**\n",
        "\n",
        "\n",
        "> > *   **Sequencia de Solicitudes = [2, 2, 2, 2, 2, 2, 2, 2, 2, 2, 2, 2, 2, 2, 2, 2, 2, 2, 2, 2]**"
      ]
    },
    {
      "cell_type": "code",
      "metadata": {
        "colab": {
          "base_uri": "https://localhost:8080/"
        },
        "id": "HmkQEviVonD6",
        "outputId": "32464ba1-0f60-46e1-ce77-9d759e05178c"
      },
      "source": [
        "config_list = np.array([0, 1, 2, 3, 4])\n",
        "req_list = np.array([2, 2, 2, 2, 2, 2, 2, 2, 2, 2, 2, 2, 2, 2, 2, 2, 2, 2, 2, 2])\n",
        "\n",
        "print(\"CANTIDAD DE SOLICITUDES -> %d\\n\" %(len(req_list)))\n",
        "MTF(req_list, config_list)"
      ],
      "execution_count": 79,
      "outputs": [
        {
          "output_type": "stream",
          "text": [
            "CANTIDAD DE SOLICITUDES -> 20\n",
            "\n",
            "[0 1 2 3 4] 2 3 [2 0 1 3 4]\n",
            "[2 0 1 3 4] 2 1 [2 0 1 3 4]\n",
            "[2 0 1 3 4] 2 1 [2 0 1 3 4]\n",
            "[2 0 1 3 4] 2 1 [2 0 1 3 4]\n",
            "[2 0 1 3 4] 2 1 [2 0 1 3 4]\n",
            "[2 0 1 3 4] 2 1 [2 0 1 3 4]\n",
            "[2 0 1 3 4] 2 1 [2 0 1 3 4]\n",
            "[2 0 1 3 4] 2 1 [2 0 1 3 4]\n",
            "[2 0 1 3 4] 2 1 [2 0 1 3 4]\n",
            "[2 0 1 3 4] 2 1 [2 0 1 3 4]\n",
            "[2 0 1 3 4] 2 1 [2 0 1 3 4]\n",
            "[2 0 1 3 4] 2 1 [2 0 1 3 4]\n",
            "[2 0 1 3 4] 2 1 [2 0 1 3 4]\n",
            "[2 0 1 3 4] 2 1 [2 0 1 3 4]\n",
            "[2 0 1 3 4] 2 1 [2 0 1 3 4]\n",
            "[2 0 1 3 4] 2 1 [2 0 1 3 4]\n",
            "[2 0 1 3 4] 2 1 [2 0 1 3 4]\n",
            "[2 0 1 3 4] 2 1 [2 0 1 3 4]\n",
            "[2 0 1 3 4] 2 1 [2 0 1 3 4]\n",
            "[2 0 1 3 4] 2 1 [2 0 1 3 4]\n",
            "\n",
            "COSTO TOTAL = 22 \n",
            "\n"
          ],
          "name": "stdout"
        }
      ]
    },
    {
      "cell_type": "markdown",
      "metadata": {
        "id": "Ho9dBAqSorce"
      },
      "source": [
        "> 2.\n",
        "\n",
        "\n",
        "> > *   **Lista de Configuración = [0, 1, 2, 3, 4]**\n",
        "\n",
        "\n",
        "> > *   **Sequencia de Solicitudes = [3, 3, 3, 3, 3, 3, 3, 3, 3, 3, 3, 3, 3, 3, 3, 3,3, 3, 3, 3]**"
      ]
    },
    {
      "cell_type": "code",
      "metadata": {
        "colab": {
          "base_uri": "https://localhost:8080/"
        },
        "id": "aAIZRDWYoqy7",
        "outputId": "9e0c42a0-5a8c-430c-a68b-0a22984fc42a"
      },
      "source": [
        "config_list = np.array([0, 1, 2, 3, 4])\n",
        "req_list = np.array([3, 3, 3, 3, 3, 3, 3, 3, 3, 3, 3, 3, 3, 3, 3, 3,3, 3, 3, 3])\n",
        "\n",
        "print(\"CANTIDAD DE SOLICITUDES -> %d\\n\" %(len(req_list)))\n",
        "MTF(req_list, config_list)"
      ],
      "execution_count": 80,
      "outputs": [
        {
          "output_type": "stream",
          "text": [
            "CANTIDAD DE SOLICITUDES -> 20\n",
            "\n",
            "[0 1 2 3 4] 3 4 [3 0 1 2 4]\n",
            "[3 0 1 2 4] 3 1 [3 0 1 2 4]\n",
            "[3 0 1 2 4] 3 1 [3 0 1 2 4]\n",
            "[3 0 1 2 4] 3 1 [3 0 1 2 4]\n",
            "[3 0 1 2 4] 3 1 [3 0 1 2 4]\n",
            "[3 0 1 2 4] 3 1 [3 0 1 2 4]\n",
            "[3 0 1 2 4] 3 1 [3 0 1 2 4]\n",
            "[3 0 1 2 4] 3 1 [3 0 1 2 4]\n",
            "[3 0 1 2 4] 3 1 [3 0 1 2 4]\n",
            "[3 0 1 2 4] 3 1 [3 0 1 2 4]\n",
            "[3 0 1 2 4] 3 1 [3 0 1 2 4]\n",
            "[3 0 1 2 4] 3 1 [3 0 1 2 4]\n",
            "[3 0 1 2 4] 3 1 [3 0 1 2 4]\n",
            "[3 0 1 2 4] 3 1 [3 0 1 2 4]\n",
            "[3 0 1 2 4] 3 1 [3 0 1 2 4]\n",
            "[3 0 1 2 4] 3 1 [3 0 1 2 4]\n",
            "[3 0 1 2 4] 3 1 [3 0 1 2 4]\n",
            "[3 0 1 2 4] 3 1 [3 0 1 2 4]\n",
            "[3 0 1 2 4] 3 1 [3 0 1 2 4]\n",
            "[3 0 1 2 4] 3 1 [3 0 1 2 4]\n",
            "\n",
            "COSTO TOTAL = 23 \n",
            "\n"
          ],
          "name": "stdout"
        }
      ]
    },
    {
      "cell_type": "markdown",
      "metadata": {
        "id": "HL9Kzmacpziw"
      },
      "source": [
        "\n",
        "\n",
        "> 3.   **¿Cuál sería  la  fórmula  para  calcular  el  costo  de 𝑛 solicitudes del mismo elemento si éste  se encuentra inicialmente en la 𝑘-ésma posición de la lista de configuración?**"
      ]
    },
    {
      "cell_type": "markdown",
      "metadata": {
        "id": "R03y9BpzdUSf"
      },
      "source": [
        "\n",
        "\n",
        "> > La formula sería:\n",
        "> > >  *n* + *k* - 1\n",
        "\n",
        "\n",
        "\n",
        "\n",
        "\n"
      ]
    },
    {
      "cell_type": "markdown",
      "metadata": {
        "id": "D-dMTQuzqCI3"
      },
      "source": [
        "### **f)**"
      ]
    },
    {
      "cell_type": "code",
      "metadata": {
        "id": "c791w9pmtGCO"
      },
      "source": [
        "def IMTF(req_list, config_list):\n",
        "  old_list = config_list\n",
        "  new_list = config_list\n",
        "  total_cost = 0\n",
        "\n",
        "  for i in req_list:\n",
        "    cost = 0\n",
        "    old_list = new_list\n",
        "\n",
        "    for j in old_list:\n",
        "      cost += 1\n",
        "\n",
        "      if i == j:\n",
        "        nth_position = np.where(old_list == i)[0][0]\n",
        "\n",
        "        if (nth_position == 0):\n",
        "          print(old_list, i, cost, new_list)\n",
        "\n",
        "        else:\n",
        "          for k in range(0, nth_position):\n",
        "            if (i == old_list[(nth_position + k + 1) % 5]):\n",
        "              new_list = np.delete(new_list, nth_position)\n",
        "              new_list = np.insert(new_list, 0, i)\n",
        "\n",
        "              print(old_list, i, cost, new_list)\n",
        "              \n",
        "              break\n",
        "\n",
        "            else:\n",
        "              if (k == nth_position - 1):\n",
        "                print(old_list, i, cost, new_list)\n",
        "          \n",
        "        total_cost += cost\n",
        "  \n",
        "        break        \n",
        "        \n",
        "  print(\"\\nCOSTO TOTAL = %d \\n\" % (total_cost))   "
      ],
      "execution_count": 91,
      "outputs": []
    },
    {
      "cell_type": "markdown",
      "metadata": {
        "id": "f9MT9HQjeQ0z"
      },
      "source": [
        "\n",
        "\n",
        "> **1.**\n",
        "\n",
        "\n",
        "> *   **Lista de Configuarción = [0, 1, 2, 3, 4]**\n",
        "> *   **Secuencia de Solicitudes = [0, 1, 2, 3, 4,0, 1, 2, 3, 4, 0, 1, 2, 3, 4, 0, 1, 2, 3, 4]** **bold text**\n",
        "\n",
        "\n",
        "\n"
      ]
    },
    {
      "cell_type": "code",
      "metadata": {
        "colab": {
          "base_uri": "https://localhost:8080/"
        },
        "id": "z_5nPwqLuitq",
        "outputId": "21a75007-3511-4e3f-aec9-456f27053f8e"
      },
      "source": [
        "config_list = np.array([0, 1, 2, 3, 4])\n",
        "req_list = np.array([0, 1, 2, 3, 4, 0, 1, 2, 3, 4, 0, 1, 2, 3, 4, 0, 1, 2, 3, 4])\n",
        "\n",
        "print(\"CANTIDAD DE SOLICITUDES -> %d\\n\" %(len(req_list)))\n",
        "IMTF(req_list, config_list)"
      ],
      "execution_count": 88,
      "outputs": [
        {
          "output_type": "stream",
          "text": [
            "CANTIDAD DE SOLICITUDES -> 20\n",
            "\n",
            "[0 1 2 3 4] 0 1 [0 1 2 3 4]\n",
            "[0 1 2 3 4] 1 2 [0 1 2 3 4]\n",
            "[0 1 2 3 4] 2 3 [0 1 2 3 4]\n",
            "[0 1 2 3 4] 3 4 [0 1 2 3 4]\n",
            "[0 1 2 3 4] 4 5 [0 1 2 3 4]\n",
            "[0 1 2 3 4] 0 1 [0 1 2 3 4]\n",
            "[0 1 2 3 4] 1 2 [0 1 2 3 4]\n",
            "[0 1 2 3 4] 2 3 [0 1 2 3 4]\n",
            "[0 1 2 3 4] 3 4 [0 1 2 3 4]\n",
            "[0 1 2 3 4] 4 5 [0 1 2 3 4]\n",
            "[0 1 2 3 4] 0 1 [0 1 2 3 4]\n",
            "[0 1 2 3 4] 1 2 [0 1 2 3 4]\n",
            "[0 1 2 3 4] 2 3 [0 1 2 3 4]\n",
            "[0 1 2 3 4] 3 4 [0 1 2 3 4]\n",
            "[0 1 2 3 4] 4 5 [0 1 2 3 4]\n",
            "[0 1 2 3 4] 0 1 [0 1 2 3 4]\n",
            "[0 1 2 3 4] 1 2 [0 1 2 3 4]\n",
            "[0 1 2 3 4] 2 3 [0 1 2 3 4]\n",
            "[0 1 2 3 4] 3 4 [0 1 2 3 4]\n",
            "[0 1 2 3 4] 4 5 [0 1 2 3 4]\n",
            "\n",
            "COSTO TOTAL = 60 \n",
            "\n"
          ],
          "name": "stdout"
        }
      ]
    },
    {
      "cell_type": "markdown",
      "metadata": {
        "id": "vc_8tcrGe2wh"
      },
      "source": [
        "\n",
        "\n",
        "> **2.**\n",
        "\n",
        "\n",
        "> *   **Lista de Configuarción = [0, 1, 2, 3, 4]**\n",
        "> *   **Secuencia de Solicitudes = [4, 3, 2, 1, 0, 1, 2, 3, 4, 3, 2, 1, 0, 1, 2, 3, 4]**\n",
        "\n",
        "\n",
        "\n",
        "\n",
        "\n",
        "\n",
        "\n"
      ]
    },
    {
      "cell_type": "code",
      "metadata": {
        "colab": {
          "base_uri": "https://localhost:8080/"
        },
        "id": "kfc1TWq5fQMo",
        "outputId": "03745fe6-0d96-4ae2-c2ae-13df02ff20ed"
      },
      "source": [
        "config_list = np.array([0, 1, 2, 3, 4])\n",
        "req_list = np.array([4, 3, 2, 1, 0, 1, 2, 3, 4, 3, 2, 1, 0, 1, 2, 3, 4])\n",
        "\n",
        "print(\"CANTIDAD DE SOLICITUDES -> %d\\n\" %(len(req_list)))\n",
        "IMTF(req_list, config_list)"
      ],
      "execution_count": 83,
      "outputs": [
        {
          "output_type": "stream",
          "text": [
            "CANTIDAD DE SOLICITUDES -> 17\n",
            "\n",
            "[0 1 2 3 4] 4 5 [0 1 2 3 4]\n",
            "[0 1 2 3 4] 3 4 [0 1 2 3 4]\n",
            "[0 1 2 3 4] 2 3 [0 1 2 3 4]\n",
            "[0 1 2 3 4] 1 2 [0 1 2 3 4]\n",
            "[0 1 2 3 4] 0 1 [0 1 2 3 4]\n",
            "[0 1 2 3 4] 1 2 [0 1 2 3 4]\n",
            "[0 1 2 3 4] 2 3 [0 1 2 3 4]\n",
            "[0 1 2 3 4] 3 4 [0 1 2 3 4]\n",
            "[0 1 2 3 4] 4 5 [0 1 2 3 4]\n",
            "[0 1 2 3 4] 3 4 [0 1 2 3 4]\n",
            "[0 1 2 3 4] 2 3 [0 1 2 3 4]\n",
            "[0 1 2 3 4] 1 2 [0 1 2 3 4]\n",
            "[0 1 2 3 4] 0 1 [0 1 2 3 4]\n",
            "[0 1 2 3 4] 1 2 [0 1 2 3 4]\n",
            "[0 1 2 3 4] 2 3 [0 1 2 3 4]\n",
            "[0 1 2 3 4] 3 4 [0 1 2 3 4]\n",
            "[0 1 2 3 4] 4 5 [0 1 2 3 4]\n",
            "\n",
            "COSTO TOTAL = 53 \n",
            "\n"
          ],
          "name": "stdout"
        }
      ]
    },
    {
      "cell_type": "markdown",
      "metadata": {
        "id": "J4pUirHZjDGg"
      },
      "source": [
        "\n",
        "\n",
        "> **3.**\n",
        "\n"
      ]
    },
    {
      "cell_type": "markdown",
      "metadata": {
        "id": "mJ1dwVhTg6JU"
      },
      "source": [
        "\n",
        "\n",
        "> > **3.1.**\n",
        "\n",
        "\n",
        "> > *   **Lista de Configuración = [0, 1, 2, 3, 4]**\n",
        "\n",
        "\n",
        "> > *   **Sequencia de Solicitudes = [2, 2, 2, 2, 2, 2, 2, 2, 2, 2, 2, 2, 2, 2, 2, 2, 2, 2, 2, 2]**\n",
        "\n",
        "\n",
        "\n"
      ]
    },
    {
      "cell_type": "code",
      "metadata": {
        "colab": {
          "base_uri": "https://localhost:8080/"
        },
        "id": "6V22YHfPiPnW",
        "outputId": "556ef01d-60d2-48d9-cde9-f690ffed1786"
      },
      "source": [
        "config_list = np.array([0, 1, 2, 3, 4])\n",
        "req_list = np.array([2, 2, 2, 2, 2, 2, 2, 2, 2, 2, 2, 2, 2, 2, 2, 2, 2, 2, 2, 2])\n",
        "\n",
        "print(\"CANTIDAD DE SOLICITUDES -> %d\\n\" %(len(req_list)))\n",
        "IMTF(req_list, config_list)"
      ],
      "execution_count": 84,
      "outputs": [
        {
          "output_type": "stream",
          "text": [
            "CANTIDAD DE SOLICITUDES -> 20\n",
            "\n",
            "[0 1 2 3 4] 2 3 [0 1 2 3 4]\n",
            "[0 1 2 3 4] 2 3 [0 1 2 3 4]\n",
            "[0 1 2 3 4] 2 3 [0 1 2 3 4]\n",
            "[0 1 2 3 4] 2 3 [0 1 2 3 4]\n",
            "[0 1 2 3 4] 2 3 [0 1 2 3 4]\n",
            "[0 1 2 3 4] 2 3 [0 1 2 3 4]\n",
            "[0 1 2 3 4] 2 3 [0 1 2 3 4]\n",
            "[0 1 2 3 4] 2 3 [0 1 2 3 4]\n",
            "[0 1 2 3 4] 2 3 [0 1 2 3 4]\n",
            "[0 1 2 3 4] 2 3 [0 1 2 3 4]\n",
            "[0 1 2 3 4] 2 3 [0 1 2 3 4]\n",
            "[0 1 2 3 4] 2 3 [0 1 2 3 4]\n",
            "[0 1 2 3 4] 2 3 [0 1 2 3 4]\n",
            "[0 1 2 3 4] 2 3 [0 1 2 3 4]\n",
            "[0 1 2 3 4] 2 3 [0 1 2 3 4]\n",
            "[0 1 2 3 4] 2 3 [0 1 2 3 4]\n",
            "[0 1 2 3 4] 2 3 [0 1 2 3 4]\n",
            "[0 1 2 3 4] 2 3 [0 1 2 3 4]\n",
            "[0 1 2 3 4] 2 3 [0 1 2 3 4]\n",
            "[0 1 2 3 4] 2 3 [0 1 2 3 4]\n",
            "\n",
            "COSTO TOTAL = 60 \n",
            "\n"
          ],
          "name": "stdout"
        }
      ]
    },
    {
      "cell_type": "markdown",
      "metadata": {
        "id": "JYw-DYiXiYBq"
      },
      "source": [
        "> > **3.2.**\n",
        "\n",
        "\n",
        "> > *   **Lista de Configuración = [0, 1, 2, 3, 4]**\n",
        "\n",
        "\n",
        "> > *   **Sequencia de Solicitudes = [3, 3, 3, 3, 3, 3, 3, 3, 3, 3, 3, 3, 3, 3, 3, 3,3, 3, 3, 3]**\n",
        "\n"
      ]
    },
    {
      "cell_type": "code",
      "metadata": {
        "colab": {
          "base_uri": "https://localhost:8080/"
        },
        "id": "gHRxbdrNigXp",
        "outputId": "100ad30b-078a-4c96-d799-7849f845baf5"
      },
      "source": [
        "config_list = np.array([0, 1, 2, 3, 4])\n",
        "req_list = np.array([3, 3, 3, 3, 3, 3, 3, 3, 3, 3, 3, 3, 3, 3, 3, 3,3, 3, 3, 3])\n",
        "\n",
        "print(\"CANTIDAD DE SOLICITUDES -> %d\\n\" %(len(req_list)))\n",
        "IMTF(req_list, config_list)"
      ],
      "execution_count": 85,
      "outputs": [
        {
          "output_type": "stream",
          "text": [
            "CANTIDAD DE SOLICITUDES -> 20\n",
            "\n",
            "[0 1 2 3 4] 3 4 [0 1 2 3 4]\n",
            "[0 1 2 3 4] 3 4 [0 1 2 3 4]\n",
            "[0 1 2 3 4] 3 4 [0 1 2 3 4]\n",
            "[0 1 2 3 4] 3 4 [0 1 2 3 4]\n",
            "[0 1 2 3 4] 3 4 [0 1 2 3 4]\n",
            "[0 1 2 3 4] 3 4 [0 1 2 3 4]\n",
            "[0 1 2 3 4] 3 4 [0 1 2 3 4]\n",
            "[0 1 2 3 4] 3 4 [0 1 2 3 4]\n",
            "[0 1 2 3 4] 3 4 [0 1 2 3 4]\n",
            "[0 1 2 3 4] 3 4 [0 1 2 3 4]\n",
            "[0 1 2 3 4] 3 4 [0 1 2 3 4]\n",
            "[0 1 2 3 4] 3 4 [0 1 2 3 4]\n",
            "[0 1 2 3 4] 3 4 [0 1 2 3 4]\n",
            "[0 1 2 3 4] 3 4 [0 1 2 3 4]\n",
            "[0 1 2 3 4] 3 4 [0 1 2 3 4]\n",
            "[0 1 2 3 4] 3 4 [0 1 2 3 4]\n",
            "[0 1 2 3 4] 3 4 [0 1 2 3 4]\n",
            "[0 1 2 3 4] 3 4 [0 1 2 3 4]\n",
            "[0 1 2 3 4] 3 4 [0 1 2 3 4]\n",
            "[0 1 2 3 4] 3 4 [0 1 2 3 4]\n",
            "\n",
            "COSTO TOTAL = 80 \n",
            "\n"
          ],
          "name": "stdout"
        }
      ]
    },
    {
      "cell_type": "markdown",
      "metadata": {
        "id": "GXkxrTgDjSch"
      },
      "source": [
        "> > **3.3.**   **¿Cuál sería  la  fórmula  para  calcular  el  costo  de 𝑛 solicitudes del mismo elemento si éste  se encuentra inicialmente en la 𝑘-ésma posición de la lista de configuración?**"
      ]
    },
    {
      "cell_type": "markdown",
      "metadata": {
        "id": "Ia1C8hEbjanb"
      },
      "source": [
        "> > > La. fórmula sería:\n",
        "\n",
        "\n",
        "> > > > *n* * *k*"
      ]
    }
  ]
}