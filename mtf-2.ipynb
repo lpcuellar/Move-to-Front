{
  "nbformat": 4,
  "nbformat_minor": 0,
  "metadata": {
    "colab": {
      "name": "mtf.ipynb",
      "provenance": [],
      "collapsed_sections": []
    },
    "kernelspec": {
      "name": "python3",
      "display_name": "Python 3"
    },
    "language_info": {
      "name": "python"
    }
  },
  "cells": [
    {
      "cell_type": "markdown",
      "metadata": {
        "id": "nud-nVJWTIKb"
      },
      "source": [
        "### **Proyecto 2 - Algoritmo MTF (Move to Front)**\n",
        "Universidad del Valle de Guatemala\n",
        "\n",
        "Análisis y Diseño de Algoritmos\n",
        "\n",
        "Luis Pedro Cuéllar - 18220"
      ]
    },
    {
      "cell_type": "code",
      "metadata": {
        "id": "sSAmlqosWF2g"
      },
      "source": [
        "import numpy as np"
      ],
      "execution_count": 1,
      "outputs": []
    },
    {
      "cell_type": "code",
      "metadata": {
        "id": "THueY3tMWnnX"
      },
      "source": [
        "def MTF(req_list, config_list):\n",
        "  old_list = config_list\n",
        "  new_list = config_list\n",
        "  total_cost = 0\n",
        "\n",
        "  for i in req_list:\n",
        "    cost = 0\n",
        "    old_list = new_list\n",
        "\n",
        "    for j in old_list:\n",
        "      cost += 1\n",
        "\n",
        "      if i == j:\n",
        "        nth_position = np.where(old_list == i)\n",
        "\n",
        "        new_list = np.delete(new_list, nth_position)\n",
        "        new_list = np.insert(new_list, 0, i)\n",
        "\n",
        "        print(old_list, i, cost, new_list)\n",
        "        \n",
        "        break\n",
        "\n",
        "    total_cost += cost\n",
        "\n",
        "  print(\"\\nCOSTO TOTAL = %d \\n\" % (total_cost))   "
      ],
      "execution_count": 2,
      "outputs": []
    },
    {
      "cell_type": "markdown",
      "metadata": {
        "id": "ffr-INP3MD_W"
      },
      "source": [
        "###**a)**\n",
        "\n"
      ]
    },
    {
      "cell_type": "markdown",
      "metadata": {
        "id": "H3YxBRW8pSvf"
      },
      "source": [
        "*   **Lista de Configuarción = [0, 1, 2, 3, 4]**\n",
        "*   **Secuencia de Solicitudes = [0, 1, 2, 3, 4,0, 1, 2, 3, 4, 0, 1, 2, 3, 4, 0, 1, 2, 3, 4]**"
      ]
    },
    {
      "cell_type": "code",
      "metadata": {
        "colab": {
          "base_uri": "https://localhost:8080/"
        },
        "id": "F2pOLMgwC0aj",
        "outputId": "55505b8a-bca9-47ec-c5de-20b870930af7"
      },
      "source": [
        "config_list = np.array([0, 1, 2, 3, 4])\n",
        "req_list = np.array([0, 1, 2, 3, 4, 0, 1, 2, 3, 4, 0, 1, 2, 3, 4, 0, 1, 2, 3, 4])\n",
        "\n",
        "print(\"CANTIDAD DE SOLICITUDES -> %d\\n\" %(len(req_list)))\n",
        "MTF(req_list, config_list)"
      ],
      "execution_count": 3,
      "outputs": [
        {
          "output_type": "stream",
          "text": [
            "CANTIDAD DE SOLICITUDES -> 20\n",
            "\n",
            "[0 1 2 3 4] 0 1 [0 1 2 3 4]\n",
            "[0 1 2 3 4] 1 2 [1 0 2 3 4]\n",
            "[1 0 2 3 4] 2 3 [2 1 0 3 4]\n",
            "[2 1 0 3 4] 3 4 [3 2 1 0 4]\n",
            "[3 2 1 0 4] 4 5 [4 3 2 1 0]\n",
            "[4 3 2 1 0] 0 5 [0 4 3 2 1]\n",
            "[0 4 3 2 1] 1 5 [1 0 4 3 2]\n",
            "[1 0 4 3 2] 2 5 [2 1 0 4 3]\n",
            "[2 1 0 4 3] 3 5 [3 2 1 0 4]\n",
            "[3 2 1 0 4] 4 5 [4 3 2 1 0]\n",
            "[4 3 2 1 0] 0 5 [0 4 3 2 1]\n",
            "[0 4 3 2 1] 1 5 [1 0 4 3 2]\n",
            "[1 0 4 3 2] 2 5 [2 1 0 4 3]\n",
            "[2 1 0 4 3] 3 5 [3 2 1 0 4]\n",
            "[3 2 1 0 4] 4 5 [4 3 2 1 0]\n",
            "[4 3 2 1 0] 0 5 [0 4 3 2 1]\n",
            "[0 4 3 2 1] 1 5 [1 0 4 3 2]\n",
            "[1 0 4 3 2] 2 5 [2 1 0 4 3]\n",
            "[2 1 0 4 3] 3 5 [3 2 1 0 4]\n",
            "[3 2 1 0 4] 4 5 [4 3 2 1 0]\n",
            "\n",
            "COSTO TOTAL = 90 \n",
            "\n"
          ],
          "name": "stdout"
        }
      ]
    },
    {
      "cell_type": "markdown",
      "metadata": {
        "id": "fyJHFtJnM6of"
      },
      "source": [
        "### **b)** "
      ]
    },
    {
      "cell_type": "markdown",
      "metadata": {
        "id": "b01l3_0qpO7n"
      },
      "source": [
        "*   **Lista de Configuarción = [0, 1, 2, 3, 4]**\n",
        "*   **Secuencia de Solicitudes = [4, 3, 2, 1, 0, 1, 2, 3, 4, 3, 2, 1, 0, 1, 2, 3, 4]**"
      ]
    },
    {
      "cell_type": "code",
      "metadata": {
        "colab": {
          "base_uri": "https://localhost:8080/"
        },
        "id": "tKFt81g7MDIx",
        "outputId": "c0861c59-b14c-4575-bdbc-1912a0091a78"
      },
      "source": [
        "config_list = np.array([0, 1, 2, 3, 4])\n",
        "req_list = np.array([4, 3, 2, 1, 0, 1, 2, 3, 4, 3, 2, 1, 0, 1, 2, 3, 4])\n",
        "\n",
        "print(\"CANTIDAD DE SOLICITUDES -> %d\\n\" %(len(req_list)))\n",
        "MTF(req_list, config_list)"
      ],
      "execution_count": 4,
      "outputs": [
        {
          "output_type": "stream",
          "text": [
            "CANTIDAD DE SOLICITUDES -> 17\n",
            "\n",
            "[0 1 2 3 4] 4 5 [4 0 1 2 3]\n",
            "[4 0 1 2 3] 3 5 [3 4 0 1 2]\n",
            "[3 4 0 1 2] 2 5 [2 3 4 0 1]\n",
            "[2 3 4 0 1] 1 5 [1 2 3 4 0]\n",
            "[1 2 3 4 0] 0 5 [0 1 2 3 4]\n",
            "[0 1 2 3 4] 1 2 [1 0 2 3 4]\n",
            "[1 0 2 3 4] 2 3 [2 1 0 3 4]\n",
            "[2 1 0 3 4] 3 4 [3 2 1 0 4]\n",
            "[3 2 1 0 4] 4 5 [4 3 2 1 0]\n",
            "[4 3 2 1 0] 3 2 [3 4 2 1 0]\n",
            "[3 4 2 1 0] 2 3 [2 3 4 1 0]\n",
            "[2 3 4 1 0] 1 4 [1 2 3 4 0]\n",
            "[1 2 3 4 0] 0 5 [0 1 2 3 4]\n",
            "[0 1 2 3 4] 1 2 [1 0 2 3 4]\n",
            "[1 0 2 3 4] 2 3 [2 1 0 3 4]\n",
            "[2 1 0 3 4] 3 4 [3 2 1 0 4]\n",
            "[3 2 1 0 4] 4 5 [4 3 2 1 0]\n",
            "\n",
            "COSTO TOTAL = 67 \n",
            "\n"
          ],
          "name": "stdout"
        }
      ]
    },
    {
      "cell_type": "markdown",
      "metadata": {
        "id": "idWBckVQlCOu"
      },
      "source": [
        "### **c)**\n"
      ]
    },
    {
      "cell_type": "markdown",
      "metadata": {
        "id": "amLp_ILjpLTu"
      },
      "source": [
        "\n",
        "*   **¿Para  qué  secuencia  de 20 solicitudes se  obtiene  el  mínimo  costo total  de  acceso  utilizando  el algoritmo MTF para la configuración 0, 1, 2, 3, 4? ¿Cuál sería ese costo total de acceso?**"
      ]
    },
    {
      "cell_type": "code",
      "metadata": {
        "colab": {
          "base_uri": "https://localhost:8080/"
        },
        "id": "dGTn68CplQq3",
        "outputId": "d8854db5-ca9a-44c2-a7d1-613dec8c4ca7"
      },
      "source": [
        "config_list = np.array([0, 1, 2, 3, 4])\n",
        "req_list = np.array([0, 0, 0, 0, 0, 0, 0, 0, 0, 0, 0, 0, 0, 0, 0, 0, 0, 0, 0, 0])\n",
        "\n",
        "print(\"CANTIDAD DE SOLICITUDES -> %d\\n\" %(len(req_list)))\n",
        "MTF(req_list, config_list)"
      ],
      "execution_count": 5,
      "outputs": [
        {
          "output_type": "stream",
          "text": [
            "CANTIDAD DE SOLICITUDES -> 20\n",
            "\n",
            "[0 1 2 3 4] 0 1 [0 1 2 3 4]\n",
            "[0 1 2 3 4] 0 1 [0 1 2 3 4]\n",
            "[0 1 2 3 4] 0 1 [0 1 2 3 4]\n",
            "[0 1 2 3 4] 0 1 [0 1 2 3 4]\n",
            "[0 1 2 3 4] 0 1 [0 1 2 3 4]\n",
            "[0 1 2 3 4] 0 1 [0 1 2 3 4]\n",
            "[0 1 2 3 4] 0 1 [0 1 2 3 4]\n",
            "[0 1 2 3 4] 0 1 [0 1 2 3 4]\n",
            "[0 1 2 3 4] 0 1 [0 1 2 3 4]\n",
            "[0 1 2 3 4] 0 1 [0 1 2 3 4]\n",
            "[0 1 2 3 4] 0 1 [0 1 2 3 4]\n",
            "[0 1 2 3 4] 0 1 [0 1 2 3 4]\n",
            "[0 1 2 3 4] 0 1 [0 1 2 3 4]\n",
            "[0 1 2 3 4] 0 1 [0 1 2 3 4]\n",
            "[0 1 2 3 4] 0 1 [0 1 2 3 4]\n",
            "[0 1 2 3 4] 0 1 [0 1 2 3 4]\n",
            "[0 1 2 3 4] 0 1 [0 1 2 3 4]\n",
            "[0 1 2 3 4] 0 1 [0 1 2 3 4]\n",
            "[0 1 2 3 4] 0 1 [0 1 2 3 4]\n",
            "[0 1 2 3 4] 0 1 [0 1 2 3 4]\n",
            "\n",
            "COSTO TOTAL = 20 \n",
            "\n"
          ],
          "name": "stdout"
        }
      ]
    },
    {
      "cell_type": "markdown",
      "metadata": {
        "id": "iZQz8NtWlt7L"
      },
      "source": [
        "### **d)**\n"
      ]
    },
    {
      "cell_type": "markdown",
      "metadata": {
        "id": "Dj_P9O-VpHoi"
      },
      "source": [
        "\n",
        "*   **¿Para qué secuencia de 20 solicitudes se obtiene el peor de los casos utilizando el algoritmo MTF para la configuración 0, 1, 2, 3, 4? ¿Cuál sería ese costo total de acceso?**\n"
      ]
    },
    {
      "cell_type": "code",
      "metadata": {
        "colab": {
          "base_uri": "https://localhost:8080/"
        },
        "id": "Bv1RjqCnl7e4",
        "outputId": "f6649da0-5ec9-4ba3-a91f-b35cf78e8051"
      },
      "source": [
        "config_list = np.array([0, 1, 2, 3, 4])\n",
        "req_list = np.array([4, 3, 2, 1, 0, 4, 3, 2, 1, 0, 4, 3, 2, 1, 0, 4, 3, 2, 1, 0])\n",
        "\n",
        "print(\"CANTIDAD DE SOLICITUDES -> %d\\n\" %(len(req_list)))\n",
        "MTF(req_list, config_list)"
      ],
      "execution_count": 6,
      "outputs": [
        {
          "output_type": "stream",
          "text": [
            "CANTIDAD DE SOLICITUDES -> 20\n",
            "\n",
            "[0 1 2 3 4] 4 5 [4 0 1 2 3]\n",
            "[4 0 1 2 3] 3 5 [3 4 0 1 2]\n",
            "[3 4 0 1 2] 2 5 [2 3 4 0 1]\n",
            "[2 3 4 0 1] 1 5 [1 2 3 4 0]\n",
            "[1 2 3 4 0] 0 5 [0 1 2 3 4]\n",
            "[0 1 2 3 4] 4 5 [4 0 1 2 3]\n",
            "[4 0 1 2 3] 3 5 [3 4 0 1 2]\n",
            "[3 4 0 1 2] 2 5 [2 3 4 0 1]\n",
            "[2 3 4 0 1] 1 5 [1 2 3 4 0]\n",
            "[1 2 3 4 0] 0 5 [0 1 2 3 4]\n",
            "[0 1 2 3 4] 4 5 [4 0 1 2 3]\n",
            "[4 0 1 2 3] 3 5 [3 4 0 1 2]\n",
            "[3 4 0 1 2] 2 5 [2 3 4 0 1]\n",
            "[2 3 4 0 1] 1 5 [1 2 3 4 0]\n",
            "[1 2 3 4 0] 0 5 [0 1 2 3 4]\n",
            "[0 1 2 3 4] 4 5 [4 0 1 2 3]\n",
            "[4 0 1 2 3] 3 5 [3 4 0 1 2]\n",
            "[3 4 0 1 2] 2 5 [2 3 4 0 1]\n",
            "[2 3 4 0 1] 1 5 [1 2 3 4 0]\n",
            "[1 2 3 4 0] 0 5 [0 1 2 3 4]\n",
            "\n",
            "COSTO TOTAL = 100 \n",
            "\n"
          ],
          "name": "stdout"
        }
      ]
    },
    {
      "cell_type": "markdown",
      "metadata": {
        "id": "zD0KOcMAm3jU"
      },
      "source": [
        "### **e)**\n"
      ]
    },
    {
      "cell_type": "markdown",
      "metadata": {
        "id": "IUJMYrC3pB-b"
      },
      "source": [
        "> 1.\n",
        "\n",
        "\n",
        "> > *   **Lista de Configuración = [0, 1, 2, 3, 4]**\n",
        "\n",
        "\n",
        "> > *   **Sequencia de Solicitudes = [2, 2, 2, 2, 2, 2, 2, 2, 2, 2, 2, 2, 2, 2, 2, 2, 2, 2, 2, 2]**"
      ]
    },
    {
      "cell_type": "code",
      "metadata": {
        "colab": {
          "base_uri": "https://localhost:8080/"
        },
        "id": "HmkQEviVonD6",
        "outputId": "bb114b6c-feab-4a39-d9fb-730f8b28f9f4"
      },
      "source": [
        "config_list = np.array([0, 1, 2, 3, 4])\n",
        "req_list = np.array([2, 2, 2, 2, 2, 2, 2, 2, 2, 2, 2, 2, 2, 2, 2, 2, 2, 2, 2, 2])\n",
        "\n",
        "print(\"CANTIDAD DE SOLICITUDES -> %d\\n\" %(len(req_list)))\n",
        "MTF(req_list, config_list)"
      ],
      "execution_count": 7,
      "outputs": [
        {
          "output_type": "stream",
          "text": [
            "CANTIDAD DE SOLICITUDES -> 20\n",
            "\n",
            "[0 1 2 3 4] 2 3 [2 0 1 3 4]\n",
            "[2 0 1 3 4] 2 1 [2 0 1 3 4]\n",
            "[2 0 1 3 4] 2 1 [2 0 1 3 4]\n",
            "[2 0 1 3 4] 2 1 [2 0 1 3 4]\n",
            "[2 0 1 3 4] 2 1 [2 0 1 3 4]\n",
            "[2 0 1 3 4] 2 1 [2 0 1 3 4]\n",
            "[2 0 1 3 4] 2 1 [2 0 1 3 4]\n",
            "[2 0 1 3 4] 2 1 [2 0 1 3 4]\n",
            "[2 0 1 3 4] 2 1 [2 0 1 3 4]\n",
            "[2 0 1 3 4] 2 1 [2 0 1 3 4]\n",
            "[2 0 1 3 4] 2 1 [2 0 1 3 4]\n",
            "[2 0 1 3 4] 2 1 [2 0 1 3 4]\n",
            "[2 0 1 3 4] 2 1 [2 0 1 3 4]\n",
            "[2 0 1 3 4] 2 1 [2 0 1 3 4]\n",
            "[2 0 1 3 4] 2 1 [2 0 1 3 4]\n",
            "[2 0 1 3 4] 2 1 [2 0 1 3 4]\n",
            "[2 0 1 3 4] 2 1 [2 0 1 3 4]\n",
            "[2 0 1 3 4] 2 1 [2 0 1 3 4]\n",
            "[2 0 1 3 4] 2 1 [2 0 1 3 4]\n",
            "[2 0 1 3 4] 2 1 [2 0 1 3 4]\n",
            "\n",
            "COSTO TOTAL = 22 \n",
            "\n"
          ],
          "name": "stdout"
        }
      ]
    },
    {
      "cell_type": "markdown",
      "metadata": {
        "id": "Ho9dBAqSorce"
      },
      "source": [
        "> 2.\n",
        "\n",
        "\n",
        "> > *   **Lista de Configuración = [0, 1, 2, 3, 4]**\n",
        "\n",
        "\n",
        "> > *   **Sequencia de Solicitudes = [3, 3, 3, 3, 3, 3, 3, 3, 3, 3, 3, 3, 3, 3, 3, 3,3, 3, 3, 3]**"
      ]
    },
    {
      "cell_type": "code",
      "metadata": {
        "colab": {
          "base_uri": "https://localhost:8080/"
        },
        "id": "aAIZRDWYoqy7",
        "outputId": "2fdd0eee-bc09-4bdc-e3cd-c7a9af66c744"
      },
      "source": [
        "config_list = np.array([0, 1, 2, 3, 4])\n",
        "req_list = np.array([3, 3, 3, 3, 3, 3, 3, 3, 3, 3, 3, 3, 3, 3, 3, 3,3, 3, 3, 3])\n",
        "\n",
        "print(\"CANTIDAD DE SOLICITUDES -> %d\\n\" %(len(req_list)))\n",
        "MTF(req_list, config_list)"
      ],
      "execution_count": 8,
      "outputs": [
        {
          "output_type": "stream",
          "text": [
            "CANTIDAD DE SOLICITUDES -> 20\n",
            "\n",
            "[0 1 2 3 4] 3 4 [3 0 1 2 4]\n",
            "[3 0 1 2 4] 3 1 [3 0 1 2 4]\n",
            "[3 0 1 2 4] 3 1 [3 0 1 2 4]\n",
            "[3 0 1 2 4] 3 1 [3 0 1 2 4]\n",
            "[3 0 1 2 4] 3 1 [3 0 1 2 4]\n",
            "[3 0 1 2 4] 3 1 [3 0 1 2 4]\n",
            "[3 0 1 2 4] 3 1 [3 0 1 2 4]\n",
            "[3 0 1 2 4] 3 1 [3 0 1 2 4]\n",
            "[3 0 1 2 4] 3 1 [3 0 1 2 4]\n",
            "[3 0 1 2 4] 3 1 [3 0 1 2 4]\n",
            "[3 0 1 2 4] 3 1 [3 0 1 2 4]\n",
            "[3 0 1 2 4] 3 1 [3 0 1 2 4]\n",
            "[3 0 1 2 4] 3 1 [3 0 1 2 4]\n",
            "[3 0 1 2 4] 3 1 [3 0 1 2 4]\n",
            "[3 0 1 2 4] 3 1 [3 0 1 2 4]\n",
            "[3 0 1 2 4] 3 1 [3 0 1 2 4]\n",
            "[3 0 1 2 4] 3 1 [3 0 1 2 4]\n",
            "[3 0 1 2 4] 3 1 [3 0 1 2 4]\n",
            "[3 0 1 2 4] 3 1 [3 0 1 2 4]\n",
            "[3 0 1 2 4] 3 1 [3 0 1 2 4]\n",
            "\n",
            "COSTO TOTAL = 23 \n",
            "\n"
          ],
          "name": "stdout"
        }
      ]
    },
    {
      "cell_type": "markdown",
      "metadata": {
        "id": "HL9Kzmacpziw"
      },
      "source": [
        "\n",
        "\n",
        "> 3.   **¿Cuál sería  la  fórmula  para  calcular  el  costo  de 𝑛 solicitudes del mismo elemento si éste  se encuentra inicialmente en la 𝑘-ésma posición de la lista de configuración?**"
      ]
    },
    {
      "cell_type": "markdown",
      "metadata": {
        "id": "R03y9BpzdUSf"
      },
      "source": [
        "\n",
        "\n",
        "> > La formula sería:\n",
        "> > >  *n* + *k* - 1\n",
        "\n",
        "\n",
        "\n",
        "\n",
        "\n"
      ]
    },
    {
      "cell_type": "markdown",
      "metadata": {
        "id": "D-dMTQuzqCI3"
      },
      "source": [
        "### **f)**"
      ]
    },
    {
      "cell_type": "code",
      "metadata": {
        "id": "c791w9pmtGCO"
      },
      "source": [
        "def IMTF(req_list, config_list):\n",
        "  old_list = config_list\n",
        "  new_list = config_list\n",
        "  total_cost = 0\n",
        "  count = 0\n",
        "\n",
        "  for i in req_list:\n",
        "    cost = 0\n",
        "    old_list = new_list\n",
        "\n",
        "    for j in old_list:\n",
        "      cost += 1\n",
        "\n",
        "      if i == j:\n",
        "        nth_position = np.where(old_list == i)[0][0]\n",
        "\n",
        "        if (nth_position == 0):\n",
        "          print(old_list, i, cost, new_list)\n",
        "\n",
        "        else:\n",
        "          for k in range(1, nth_position + 1):\n",
        "            if (count + k <= len(req_list) - 1):\n",
        "              if (i == req_list[count + k]):\n",
        "                new_list = np.delete(new_list, nth_position)\n",
        "                new_list = np.insert(new_list, 0, i)\n",
        "\n",
        "                print(old_list, i, cost, new_list)\n",
        "                \n",
        "                break\n",
        "              \n",
        "              else:\n",
        "                if (k == nth_position):\n",
        "                  print(old_list, i, cost, new_list)\n",
        "\n",
        "            else:\n",
        "              print(old_list, i, cost, new_list)\n",
        "              \n",
        "              break\n",
        "\n",
        "        count += 1\n",
        "        total_cost += cost\n",
        "  \n",
        "        break        \n",
        "  \n",
        "  print(\"\\nCOSTO TOTAL = %d \\n\" % (total_cost))   "
      ],
      "execution_count": 9,
      "outputs": []
    },
    {
      "cell_type": "markdown",
      "metadata": {
        "id": "f9MT9HQjeQ0z"
      },
      "source": [
        "\n",
        "\n",
        "> **1.**\n",
        "\n",
        "\n",
        "> *   **Lista de Configuarción = [0, 1, 2, 3, 4]**\n",
        "> *   **Secuencia de Solicitudes = [0, 1, 2, 3, 4,0, 1, 2, 3, 4, 0, 1, 2, 3, 4, 0, 1, 2, 3, 4]** **bold text**\n",
        "\n",
        "\n",
        "\n"
      ]
    },
    {
      "cell_type": "code",
      "metadata": {
        "colab": {
          "base_uri": "https://localhost:8080/"
        },
        "id": "z_5nPwqLuitq",
        "outputId": "73c7a98c-36f9-4bb2-af8e-2ee6e80cd435"
      },
      "source": [
        "config_list = np.array([0, 1, 2, 3, 4])\n",
        "req_list = np.array([0, 1, 2, 3, 4, 0, 1, 2, 3, 4, 0, 1, 2, 3, 4, 0, 1, 2, 3, 4])\n",
        "\n",
        "print(\"CANTIDAD DE SOLICITUDES -> %d\\n\" %(len(req_list)))\n",
        "IMTF(req_list, config_list)"
      ],
      "execution_count": 10,
      "outputs": [
        {
          "output_type": "stream",
          "text": [
            "CANTIDAD DE SOLICITUDES -> 20\n",
            "\n",
            "[0 1 2 3 4] 0 1 [0 1 2 3 4]\n",
            "[0 1 2 3 4] 1 2 [0 1 2 3 4]\n",
            "[0 1 2 3 4] 2 3 [0 1 2 3 4]\n",
            "[0 1 2 3 4] 3 4 [0 1 2 3 4]\n",
            "[0 1 2 3 4] 4 5 [0 1 2 3 4]\n",
            "[0 1 2 3 4] 0 1 [0 1 2 3 4]\n",
            "[0 1 2 3 4] 1 2 [0 1 2 3 4]\n",
            "[0 1 2 3 4] 2 3 [0 1 2 3 4]\n",
            "[0 1 2 3 4] 3 4 [0 1 2 3 4]\n",
            "[0 1 2 3 4] 4 5 [0 1 2 3 4]\n",
            "[0 1 2 3 4] 0 1 [0 1 2 3 4]\n",
            "[0 1 2 3 4] 1 2 [0 1 2 3 4]\n",
            "[0 1 2 3 4] 2 3 [0 1 2 3 4]\n",
            "[0 1 2 3 4] 3 4 [0 1 2 3 4]\n",
            "[0 1 2 3 4] 4 5 [0 1 2 3 4]\n",
            "[0 1 2 3 4] 0 1 [0 1 2 3 4]\n",
            "[0 1 2 3 4] 1 2 [0 1 2 3 4]\n",
            "[0 1 2 3 4] 2 3 [0 1 2 3 4]\n",
            "[0 1 2 3 4] 3 4 [0 1 2 3 4]\n",
            "[0 1 2 3 4] 4 5 [0 1 2 3 4]\n",
            "\n",
            "COSTO TOTAL = 60 \n",
            "\n"
          ],
          "name": "stdout"
        }
      ]
    },
    {
      "cell_type": "markdown",
      "metadata": {
        "id": "vc_8tcrGe2wh"
      },
      "source": [
        "\n",
        "\n",
        "> **2.**\n",
        "\n",
        "\n",
        "> *   **Lista de Configuarción = [0, 1, 2, 3, 4]**\n",
        "> *   **Secuencia de Solicitudes = [4, 3, 2, 1, 0, 1, 2, 3, 4, 3, 2, 1, 0, 1, 2, 3, 4]**\n",
        "\n",
        "\n",
        "\n",
        "\n",
        "\n",
        "\n",
        "\n"
      ]
    },
    {
      "cell_type": "code",
      "metadata": {
        "colab": {
          "base_uri": "https://localhost:8080/"
        },
        "id": "kfc1TWq5fQMo",
        "outputId": "7f61f8eb-59e8-4263-d296-094cf08e8e9f"
      },
      "source": [
        "config_list = np.array([0, 1, 2, 3, 4])\n",
        "req_list = np.array([4, 3, 2, 1, 0, 1, 2, 3, 4, 3, 2, 1, 0, 1, 2, 3, 4])\n",
        "\n",
        "print(\"CANTIDAD DE SOLICITUDES -> %d\\n\" %(len(req_list)))\n",
        "IMTF(req_list, config_list)"
      ],
      "execution_count": 11,
      "outputs": [
        {
          "output_type": "stream",
          "text": [
            "CANTIDAD DE SOLICITUDES -> 17\n",
            "\n",
            "[0 1 2 3 4] 4 5 [0 1 2 3 4]\n",
            "[0 1 2 3 4] 3 4 [0 1 2 3 4]\n",
            "[0 1 2 3 4] 2 3 [0 1 2 3 4]\n",
            "[0 1 2 3 4] 1 2 [0 1 2 3 4]\n",
            "[0 1 2 3 4] 0 1 [0 1 2 3 4]\n",
            "[0 1 2 3 4] 1 2 [0 1 2 3 4]\n",
            "[0 1 2 3 4] 2 3 [0 1 2 3 4]\n",
            "[0 1 2 3 4] 3 4 [3 0 1 2 4]\n",
            "[3 0 1 2 4] 4 5 [3 0 1 2 4]\n",
            "[3 0 1 2 4] 3 1 [3 0 1 2 4]\n",
            "[3 0 1 2 4] 2 4 [3 0 1 2 4]\n",
            "[3 0 1 2 4] 1 3 [1 3 0 2 4]\n",
            "[1 3 0 2 4] 0 3 [1 3 0 2 4]\n",
            "[1 3 0 2 4] 1 1 [1 3 0 2 4]\n",
            "[1 3 0 2 4] 2 4 [1 3 0 2 4]\n",
            "[1 3 0 2 4] 3 2 [1 3 0 2 4]\n",
            "[1 3 0 2 4] 4 5 [1 3 0 2 4]\n",
            "\n",
            "COSTO TOTAL = 52 \n",
            "\n"
          ],
          "name": "stdout"
        }
      ]
    },
    {
      "cell_type": "markdown",
      "metadata": {
        "id": "aI5DLosgHur8"
      },
      "source": [
        "> **3.**\n",
        "\n",
        "\n",
        "\n",
        "> *   **¿Para  qué  secuencia  de 20 solicitudes se  obtiene  el  mínimo  costo total  de  acceso  utilizando  el algoritmo IMTF para la configuración 0, 1, 2, 3, 4? ¿Cuál sería ese costo total de acceso?**"
      ]
    },
    {
      "cell_type": "code",
      "metadata": {
        "colab": {
          "base_uri": "https://localhost:8080/"
        },
        "id": "Ovg8zaG4H76s",
        "outputId": "07b800fc-0b1a-4880-9bcb-892ebeb72106"
      },
      "source": [
        "config_list = np.array([0, 1, 2, 3, 4])\n",
        "req_list = np.array([0, 0, 0, 0, 0, 0, 0, 0, 0, 0, 0, 0, 0, 0, 0, 0, 0, 0, 0, 0])\n",
        "\n",
        "print(\"CANTIDAD DE SOLICITUDES -> %d\\n\" %(len(req_list)))\n",
        "IMTF(req_list, config_list)"
      ],
      "execution_count": 12,
      "outputs": [
        {
          "output_type": "stream",
          "text": [
            "CANTIDAD DE SOLICITUDES -> 20\n",
            "\n",
            "[0 1 2 3 4] 0 1 [0 1 2 3 4]\n",
            "[0 1 2 3 4] 0 1 [0 1 2 3 4]\n",
            "[0 1 2 3 4] 0 1 [0 1 2 3 4]\n",
            "[0 1 2 3 4] 0 1 [0 1 2 3 4]\n",
            "[0 1 2 3 4] 0 1 [0 1 2 3 4]\n",
            "[0 1 2 3 4] 0 1 [0 1 2 3 4]\n",
            "[0 1 2 3 4] 0 1 [0 1 2 3 4]\n",
            "[0 1 2 3 4] 0 1 [0 1 2 3 4]\n",
            "[0 1 2 3 4] 0 1 [0 1 2 3 4]\n",
            "[0 1 2 3 4] 0 1 [0 1 2 3 4]\n",
            "[0 1 2 3 4] 0 1 [0 1 2 3 4]\n",
            "[0 1 2 3 4] 0 1 [0 1 2 3 4]\n",
            "[0 1 2 3 4] 0 1 [0 1 2 3 4]\n",
            "[0 1 2 3 4] 0 1 [0 1 2 3 4]\n",
            "[0 1 2 3 4] 0 1 [0 1 2 3 4]\n",
            "[0 1 2 3 4] 0 1 [0 1 2 3 4]\n",
            "[0 1 2 3 4] 0 1 [0 1 2 3 4]\n",
            "[0 1 2 3 4] 0 1 [0 1 2 3 4]\n",
            "[0 1 2 3 4] 0 1 [0 1 2 3 4]\n",
            "[0 1 2 3 4] 0 1 [0 1 2 3 4]\n",
            "\n",
            "COSTO TOTAL = 20 \n",
            "\n"
          ],
          "name": "stdout"
        }
      ]
    },
    {
      "cell_type": "markdown",
      "metadata": {
        "id": "635YO9yAIMJM"
      },
      "source": [
        "> **4.**\n",
        "> *   **¿Para qué secuencia de 20 solicitudes se obtiene el peor de los casos utilizando el algoritmo IMTF para la configuración 0, 1, 2, 3, 4? ¿Cuál sería ese costo total de acceso?**"
      ]
    },
    {
      "cell_type": "code",
      "metadata": {
        "colab": {
          "base_uri": "https://localhost:8080/"
        },
        "id": "2oT6z5ufIVYS",
        "outputId": "60fef9a4-ebc9-4372-f51e-780e5c803cac"
      },
      "source": [
        "config_list = np.array([0, 1, 2, 3, 4])\n",
        "req_list = np.array([4, 4, 4, 4, 4, 4, 4, 4, 4, 4, 4, 4, 4, 4, 4, 4, 4, 4, 4, 4])\n",
        "\n",
        "print(\"CANTIDAD DE SOLICITUDES -> %d\\n\" %(len(req_list)))\n",
        "IMTF(req_list, config_list)"
      ],
      "execution_count": 13,
      "outputs": [
        {
          "output_type": "stream",
          "text": [
            "CANTIDAD DE SOLICITUDES -> 20\n",
            "\n",
            "[0 1 2 3 4] 4 5 [4 0 1 2 3]\n",
            "[4 0 1 2 3] 4 1 [4 0 1 2 3]\n",
            "[4 0 1 2 3] 4 1 [4 0 1 2 3]\n",
            "[4 0 1 2 3] 4 1 [4 0 1 2 3]\n",
            "[4 0 1 2 3] 4 1 [4 0 1 2 3]\n",
            "[4 0 1 2 3] 4 1 [4 0 1 2 3]\n",
            "[4 0 1 2 3] 4 1 [4 0 1 2 3]\n",
            "[4 0 1 2 3] 4 1 [4 0 1 2 3]\n",
            "[4 0 1 2 3] 4 1 [4 0 1 2 3]\n",
            "[4 0 1 2 3] 4 1 [4 0 1 2 3]\n",
            "[4 0 1 2 3] 4 1 [4 0 1 2 3]\n",
            "[4 0 1 2 3] 4 1 [4 0 1 2 3]\n",
            "[4 0 1 2 3] 4 1 [4 0 1 2 3]\n",
            "[4 0 1 2 3] 4 1 [4 0 1 2 3]\n",
            "[4 0 1 2 3] 4 1 [4 0 1 2 3]\n",
            "[4 0 1 2 3] 4 1 [4 0 1 2 3]\n",
            "[4 0 1 2 3] 4 1 [4 0 1 2 3]\n",
            "[4 0 1 2 3] 4 1 [4 0 1 2 3]\n",
            "[4 0 1 2 3] 4 1 [4 0 1 2 3]\n",
            "[4 0 1 2 3] 4 1 [4 0 1 2 3]\n",
            "\n",
            "COSTO TOTAL = 24 \n",
            "\n"
          ],
          "name": "stdout"
        }
      ]
    },
    {
      "cell_type": "markdown",
      "metadata": {
        "id": "J4pUirHZjDGg"
      },
      "source": [
        "\n",
        "\n",
        "> **5.**\n",
        "\n"
      ]
    },
    {
      "cell_type": "markdown",
      "metadata": {
        "id": "mJ1dwVhTg6JU"
      },
      "source": [
        "\n",
        "\n",
        "> > **5.1.**\n",
        "\n",
        "\n",
        "> > *   **Lista de Configuración = [0, 1, 2, 3, 4]**\n",
        "\n",
        "\n",
        "> > *   **Sequencia de Solicitudes = [2, 2, 2, 2, 2, 2, 2, 2, 2, 2, 2, 2, 2, 2, 2, 2, 2, 2, 2, 2]**\n",
        "\n",
        "\n",
        "\n"
      ]
    },
    {
      "cell_type": "code",
      "metadata": {
        "colab": {
          "base_uri": "https://localhost:8080/"
        },
        "id": "6V22YHfPiPnW",
        "outputId": "c17a3eb8-eb74-4a71-8aa4-38049e4ea50d"
      },
      "source": [
        "config_list = np.array([0, 1, 2, 3, 4])\n",
        "req_list = np.array([2, 2, 2, 2, 2, 2, 2, 2, 2, 2, 2, 2, 2, 2, 2, 2, 2, 2, 2, 2])\n",
        "\n",
        "print(\"CANTIDAD DE SOLICITUDES -> %d\\n\" %(len(req_list)))\n",
        "IMTF(req_list, config_list)"
      ],
      "execution_count": 14,
      "outputs": [
        {
          "output_type": "stream",
          "text": [
            "CANTIDAD DE SOLICITUDES -> 20\n",
            "\n",
            "[0 1 2 3 4] 2 3 [2 0 1 3 4]\n",
            "[2 0 1 3 4] 2 1 [2 0 1 3 4]\n",
            "[2 0 1 3 4] 2 1 [2 0 1 3 4]\n",
            "[2 0 1 3 4] 2 1 [2 0 1 3 4]\n",
            "[2 0 1 3 4] 2 1 [2 0 1 3 4]\n",
            "[2 0 1 3 4] 2 1 [2 0 1 3 4]\n",
            "[2 0 1 3 4] 2 1 [2 0 1 3 4]\n",
            "[2 0 1 3 4] 2 1 [2 0 1 3 4]\n",
            "[2 0 1 3 4] 2 1 [2 0 1 3 4]\n",
            "[2 0 1 3 4] 2 1 [2 0 1 3 4]\n",
            "[2 0 1 3 4] 2 1 [2 0 1 3 4]\n",
            "[2 0 1 3 4] 2 1 [2 0 1 3 4]\n",
            "[2 0 1 3 4] 2 1 [2 0 1 3 4]\n",
            "[2 0 1 3 4] 2 1 [2 0 1 3 4]\n",
            "[2 0 1 3 4] 2 1 [2 0 1 3 4]\n",
            "[2 0 1 3 4] 2 1 [2 0 1 3 4]\n",
            "[2 0 1 3 4] 2 1 [2 0 1 3 4]\n",
            "[2 0 1 3 4] 2 1 [2 0 1 3 4]\n",
            "[2 0 1 3 4] 2 1 [2 0 1 3 4]\n",
            "[2 0 1 3 4] 2 1 [2 0 1 3 4]\n",
            "\n",
            "COSTO TOTAL = 22 \n",
            "\n"
          ],
          "name": "stdout"
        }
      ]
    },
    {
      "cell_type": "markdown",
      "metadata": {
        "id": "JYw-DYiXiYBq"
      },
      "source": [
        "> > **5.2.**\n",
        "\n",
        "\n",
        "> > *   **Lista de Configuración = [0, 1, 2, 3, 4]**\n",
        "\n",
        "\n",
        "> > *   **Sequencia de Solicitudes = [3, 3, 3, 3, 3, 3, 3, 3, 3, 3, 3, 3, 3, 3, 3, 3,3, 3, 3, 3]**\n",
        "\n"
      ]
    },
    {
      "cell_type": "code",
      "metadata": {
        "colab": {
          "base_uri": "https://localhost:8080/"
        },
        "id": "gHRxbdrNigXp",
        "outputId": "bfc32ce9-4e71-4db2-9c66-75bd60521570"
      },
      "source": [
        "config_list = np.array([0, 1, 2, 3, 4])\n",
        "req_list = np.array([3, 3, 3, 3, 3, 3, 3, 3, 3, 3, 3, 3, 3, 3, 3, 3,3, 3, 3, 3])\n",
        "\n",
        "print(\"CANTIDAD DE SOLICITUDES -> %d\\n\" %(len(req_list)))\n",
        "IMTF(req_list, config_list)"
      ],
      "execution_count": 15,
      "outputs": [
        {
          "output_type": "stream",
          "text": [
            "CANTIDAD DE SOLICITUDES -> 20\n",
            "\n",
            "[0 1 2 3 4] 3 4 [3 0 1 2 4]\n",
            "[3 0 1 2 4] 3 1 [3 0 1 2 4]\n",
            "[3 0 1 2 4] 3 1 [3 0 1 2 4]\n",
            "[3 0 1 2 4] 3 1 [3 0 1 2 4]\n",
            "[3 0 1 2 4] 3 1 [3 0 1 2 4]\n",
            "[3 0 1 2 4] 3 1 [3 0 1 2 4]\n",
            "[3 0 1 2 4] 3 1 [3 0 1 2 4]\n",
            "[3 0 1 2 4] 3 1 [3 0 1 2 4]\n",
            "[3 0 1 2 4] 3 1 [3 0 1 2 4]\n",
            "[3 0 1 2 4] 3 1 [3 0 1 2 4]\n",
            "[3 0 1 2 4] 3 1 [3 0 1 2 4]\n",
            "[3 0 1 2 4] 3 1 [3 0 1 2 4]\n",
            "[3 0 1 2 4] 3 1 [3 0 1 2 4]\n",
            "[3 0 1 2 4] 3 1 [3 0 1 2 4]\n",
            "[3 0 1 2 4] 3 1 [3 0 1 2 4]\n",
            "[3 0 1 2 4] 3 1 [3 0 1 2 4]\n",
            "[3 0 1 2 4] 3 1 [3 0 1 2 4]\n",
            "[3 0 1 2 4] 3 1 [3 0 1 2 4]\n",
            "[3 0 1 2 4] 3 1 [3 0 1 2 4]\n",
            "[3 0 1 2 4] 3 1 [3 0 1 2 4]\n",
            "\n",
            "COSTO TOTAL = 23 \n",
            "\n"
          ],
          "name": "stdout"
        }
      ]
    }
  ]
}